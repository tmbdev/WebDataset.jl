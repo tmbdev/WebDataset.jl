{
 "cells": [
  {
   "cell_type": "code",
   "execution_count": 1,
   "id": "a304c07b-37ad-467e-9c31-901d6e141ab0",
   "metadata": {},
   "outputs": [],
   "source": [
    "using WebDataset\n",
    "using Transducers\n",
    "using Glob"
   ]
  },
  {
   "cell_type": "code",
   "execution_count": 2,
   "id": "f1946b1b-c0fe-49be-ba12-b68a079958b7",
   "metadata": {},
   "outputs": [
    {
     "name": "stdout",
     "output_type": "stream",
     "text": [
      " 61.122485 seconds (8.08 M allocations: 17.936 GiB, 1.46% gc time, 2.87% compilation time)\n"
     ]
    },
    {
     "data": {
      "text/plain": [
       "8241"
      ]
     },
     "execution_count": 2,
     "metadata": {},
     "output_type": "execute_result"
    }
   ],
   "source": [
    "# simple threaded loader test\n",
    "\n",
    "raw = sampleiterator([\"test.tar\"])\n",
    "shuffled = sampleshuffle(raw, 1000)\n",
    "decoded = sampletransforms(shuffled, default_decoders)\n",
    "batched = samplebatching(decoded, 16)\n",
    "count = 0\n",
    "@time for batch in batched\n",
    "    count += length(batch[\"__key__\"])\n",
    "end\n",
    "count"
   ]
  }
 ],
 "metadata": {
  "kernelspec": {
   "display_name": "Julia 1.6.0",
   "language": "julia",
   "name": "julia-1.6"
  },
  "language_info": {
   "file_extension": ".jl",
   "mimetype": "application/julia",
   "name": "julia",
   "version": "1.6.0"
  }
 },
 "nbformat": 4,
 "nbformat_minor": 5
}
