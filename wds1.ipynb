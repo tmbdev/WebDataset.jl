{
 "cells": [
  {
   "cell_type": "code",
   "execution_count": null,
   "id": "12cf724c-4b97-4db4-b08a-c81fafd34d40",
   "metadata": {},
   "outputs": [],
   "source": [
    "import Pkg\n",
    "Pkg.add(path=\"/home/tmb/proj/WebDataset.jl\")"
   ]
  },
  {
   "cell_type": "code",
   "execution_count": null,
   "id": "87091d0c-71c8-41e5-abff-56ba45c7fc34",
   "metadata": {},
   "outputs": [],
   "source": [
    "using WebDataset"
   ]
  },
  {
   "cell_type": "code",
   "execution_count": null,
   "id": "3fe6dc9e-c320-46ce-ae2c-365656d6e613",
   "metadata": {},
   "outputs": [],
   "source": [
    "using Transducers"
   ]
  },
  {
   "cell_type": "code",
   "execution_count": null,
   "id": "b8f466ab-4c68-4bc7-8209-3ecfa26882ef",
   "metadata": {},
   "outputs": [],
   "source": [
    "function stage(f::Function, rest...; csize=100, ntasks=1, verbose=false, kw...)\n",
    "    outch = Channel(csize)\n",
    "    return x -> begin\n",
    "        if verbose; @show \"starting\", f, x, outch, rest; end\n",
    "        Threads.@spawn f(x, outch, rest...; kw...)\n",
    "        return outch\n",
    "    end\n",
    "end"
   ]
  },
  {
   "cell_type": "code",
   "execution_count": null,
   "id": "6217e378-664a-4344-9951-0379c0a66e3e",
   "metadata": {},
   "outputs": [],
   "source": [
    "function repeatedly(shards, outch)\n",
    "    while true\n",
    "        for shard in shards\n",
    "            put!(outch, shard)\n",
    "        end\n",
    "    end\n",
    "end\n",
    "\n",
    "function testch(inch, outch; name=\"testch\")\n",
    "    count = 0\n",
    "    for sample in inch\n",
    "        if count < 5;\n",
    "            xsample = (string(sample)*\" \"^100)[1:100]\n",
    "            @show name, xsample; \n",
    "        end\n",
    "        put!(outch, sample)\n",
    "        count += 1\n",
    "    end\n",
    "end"
   ]
  },
  {
   "cell_type": "code",
   "execution_count": null,
   "id": "05c5d15f-510f-42f2-a5fd-626aab1142bd",
   "metadata": {},
   "outputs": [],
   "source": [
    "function shard_reader(shards; nbuffer=10, nthreads=1)\n",
    "    shard_ch = Channel(length(shards)+1)\n",
    "    for shard in shards\n",
    "        put!(shard_ch, shard)\n",
    "    end\n",
    "    sample_ch = Channel(nbuffer)\n",
    "    threads = [Threads.@spawn tar_stage(shard_ch, sample_ch) for i in 1:nthreads]\n",
    "    return sample_ch\n",
    "end"
   ]
  },
  {
   "cell_type": "code",
   "execution_count": null,
   "id": "ee8bdf70-1022-41b8-b6b8-c64c267df2a6",
   "metadata": {},
   "outputs": [],
   "source": [
    "function preprocess_stage(inch, outch; nbuffer=10, nthreads=4, shuffle=0, decoders=default_decoders, augmenters=[])\n",
    "    foreach(inch |> PartitionBy(itemkey) |> Map(transform↑(decoders)) |> Map(transform↑(augmenters))) do sample\n",
    "    #foreach(inch) do sample\n",
    "        put!(outch, sample)\n",
    "    end\n",
    "end"
   ]
  },
  {
   "cell_type": "code",
   "execution_count": null,
   "id": "72c15315-b3b0-4c3c-9ac6-eee7a13eb32d",
   "metadata": {},
   "outputs": [],
   "source": [
    "ch = [\"test.tar\"] |> stage(repeatedly) |> stage(tar_stage; csize=200) |> stage(preprocess_stage; csize=100)"
   ]
  },
  {
   "cell_type": "code",
   "execution_count": null,
   "id": "9ce783ca-d60e-4d7d-9272-4c638de62768",
   "metadata": {},
   "outputs": [],
   "source": [
    "inch = Channel(100)\n",
    "put!(inch, \"test.tar\")\n",
    "outch = Channel(100)\n",
    "Threads.@spawn tar_stage(inch, outch; maxcount=99999999)\n",
    "sleep(1)\n",
    "outch"
   ]
  },
  {
   "cell_type": "code",
   "execution_count": null,
   "id": "7e79a138-4dcf-41f4-a082-392b05b3322e",
   "metadata": {},
   "outputs": [],
   "source": [
    "inch = Channel(100)\n",
    "put!(inch, \"test.tar\")\n",
    "ch = inch |> stage(tar_stage; csize=200)\n",
    "sleep(1)\n",
    "ch"
   ]
  },
  {
   "cell_type": "code",
   "execution_count": null,
   "id": "cf92f5af-3325-453f-af2a-76b529911832",
   "metadata": {},
   "outputs": [],
   "source": [
    "inch = Channel(100)\n",
    "put!(inch, \"test.tar\")\n",
    "ch = inch |> stage(testch; name=\"in\") |> stage(tar_stage; csize=200)\n",
    "sleep(1)\n",
    "ch"
   ]
  },
  {
   "cell_type": "code",
   "execution_count": null,
   "id": "40b21a78-3170-4b1f-89aa-18c7af31261c",
   "metadata": {},
   "outputs": [],
   "source": [
    "inch = Channel(100)\n",
    "put!(inch, \"test.tar\")\n",
    "ch = [\"test.tar\"] |> stage(repeatedly) |> stage(testch; name=\"in\") |> stage(tar_stage; csize=200) |> stage(testch; name=\"out\")\n",
    "sleep(1)\n",
    "ch"
   ]
  },
  {
   "cell_type": "code",
   "execution_count": null,
   "id": "895ac72f-fbf7-446c-b943-78b5168c19e4",
   "metadata": {},
   "outputs": [],
   "source": [
    "[\"test.tar\"] |> stage(repeatedly) |> stage(tar_stage; csize=200) |> Take(5000) |> counted"
   ]
  }
 ],
 "metadata": {
  "kernelspec": {
   "display_name": "Julia 1.6.0",
   "language": "julia",
   "name": "julia-1.6"
  },
  "language_info": {
   "file_extension": ".jl",
   "mimetype": "application/julia",
   "name": "julia",
   "version": "1.6.0"
  }
 },
 "nbformat": 4,
 "nbformat_minor": 5
}
