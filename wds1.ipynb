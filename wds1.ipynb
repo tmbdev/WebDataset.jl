{
 "cells": [
  {
   "cell_type": "code",
   "execution_count": 1,
   "id": "a304c07b-37ad-467e-9c31-901d6e141ab0",
   "metadata": {},
   "outputs": [
    {
     "name": "stderr",
     "output_type": "stream",
     "text": [
      "┌ Info: Precompiling WebDataset [dfbb906c-54e0-4d57-86b9-79210db879da]\n",
      "└ @ Base loading.jl:1317\n"
     ]
    },
    {
     "data": {
      "text/plain": [
       "show (generic function with 1 method)"
      ]
     },
     "execution_count": 1,
     "metadata": {},
     "output_type": "execute_result"
    }
   ],
   "source": [
    "using WebDataset\n",
    "using Transducers\n",
    "\n",
    "function stage(f::Function, rest...; csize=100, ntasks=1, verbose=false, kw...)\n",
    "    outch = Channel(csize)\n",
    "    return x -> begin\n",
    "        if verbose; @show \"starting\", f, x, outch, rest; end\n",
    "        Threads.@spawn f(x, outch, rest...; kw...)\n",
    "        return outch\n",
    "    end\n",
    "end\n",
    "\n",
    "function mkch(rest...)\n",
    "    ch = Channel(length(rest))\n",
    "    for s in rest\n",
    "        put!(ch, s)\n",
    "    end\n",
    "    return ch\n",
    "end\n",
    "\n",
    "function show(ch)\n",
    "    for item in ch\n",
    "        sample = rstrip((string(item)*\" \"^100)[1:100], ' ')\n",
    "        @show keys(item), sample\n",
    "    end\n",
    "end"
   ]
  },
  {
   "cell_type": "code",
   "execution_count": 5,
   "id": "f1946b1b-c0fe-49be-ba12-b68a079958b7",
   "metadata": {},
   "outputs": [
    {
     "name": "stdout",
     "output_type": "stream",
     "text": [
      " 58.555050 seconds (3.58 M allocations: 17.678 GiB, 1.24% gc time, 0.28% compilation time)\n"
     ]
    },
    {
     "data": {
      "text/plain": [
       "8241"
      ]
     },
     "execution_count": 5,
     "metadata": {},
     "output_type": "execute_result"
    }
   ],
   "source": [
    "iterator = sampleiterator(\"test.tar\")\n",
    "decoded = sampletransforms(iterator, default_decoders)\n",
    "batched = samplebatching(decoded, 16)\n",
    "count = 0\n",
    "@time for batch in batched\n",
    "    count += length(batch[\"__key__\"])\n",
    "end\n",
    "count"
   ]
  },
  {
   "cell_type": "code",
   "execution_count": 6,
   "id": "8967ad69-dca1-46d9-bbe4-f8ab1328f190",
   "metadata": {},
   "outputs": [
    {
     "data": {
      "text/plain": [
       "140.87179487179486"
      ]
     },
     "execution_count": 6,
     "metadata": {},
     "output_type": "execute_result"
    }
   ],
   "source": [
    "8241/58.5"
   ]
  },
  {
   "cell_type": "code",
   "execution_count": 7,
   "id": "08311bae-e14e-4d27-b4f8-d34635bd30f6",
   "metadata": {},
   "outputs": [
    {
     "data": {
      "text/plain": [
       "Channel{Any}(100) (empty)"
      ]
     },
     "execution_count": 7,
     "metadata": {},
     "output_type": "execute_result"
    }
   ],
   "source": [
    "ch = Channel(100)"
   ]
  },
  {
   "cell_type": "code",
   "execution_count": 8,
   "id": "338c2361-1279-4ffa-a96e-9587c3965cb9",
   "metadata": {},
   "outputs": [
    {
     "ename": "LoadError",
     "evalue": "MethodError: objects of type Channel{Any} are not callable",
     "output_type": "error",
     "traceback": [
      "MethodError: objects of type Channel{Any} are not callable",
      "",
      "Stacktrace:",
      " [1] |>(x::Transducers.Eduction{Transducers.Reduction{Take, Transducers.BottomRF{Completing{typeof(push!!)}}}, WebDataset.var\"##260\"}, f::Channel{Any})",
      "   @ Base ./operators.jl:858",
      " [2] top-level scope",
      "   @ In[8]:1",
      " [3] eval",
      "   @ ./boot.jl:360 [inlined]",
      " [4] include_string(mapexpr::typeof(REPL.softscope), mod::Module, code::String, filename::String)",
      "   @ Base ./loading.jl:1094"
     ]
    }
   ],
   "source": [
    "sampleiterator(\"test.tar\") |> Take(10) |> ch"
   ]
  },
  {
   "cell_type": "code",
   "execution_count": 10,
   "id": "d856bba4-49d9-455a-9086-43bbfd6b5696",
   "metadata": {},
   "outputs": [
    {
     "data": {
      "text/plain": [
       "|> (generic function with 3 methods)"
      ]
     },
     "execution_count": 10,
     "metadata": {},
     "output_type": "execute_result"
    }
   ],
   "source": [
    "import Base: (|>)\n",
    "function (|>)(source, ch::Channel)\n",
    "    for sample in source\n",
    "        put!(ch, sample)\n",
    "    end\n",
    "end"
   ]
  },
  {
   "cell_type": "code",
   "execution_count": 11,
   "id": "32aa5f04-e96d-44cc-a766-78b1b0f458e8",
   "metadata": {},
   "outputs": [],
   "source": [
    "sampleiterator(\"test.tar\") |> Take(10) |> ch"
   ]
  },
  {
   "cell_type": "code",
   "execution_count": 12,
   "id": "0bf9dd37-50d8-4987-bcb4-107ffd08a39c",
   "metadata": {},
   "outputs": [
    {
     "data": {
      "text/plain": [
       "Channel{Any}(100) (10 items available)"
      ]
     },
     "execution_count": 12,
     "metadata": {},
     "output_type": "execute_result"
    }
   ],
   "source": [
    "ch"
   ]
  },
  {
   "cell_type": "code",
   "execution_count": null,
   "id": "09474ef4-e010-4c43-b3e1-6f94335a87df",
   "metadata": {},
   "outputs": [],
   "source": []
  }
 ],
 "metadata": {
  "kernelspec": {
   "display_name": "Julia 1.6.0",
   "language": "julia",
   "name": "julia-1.6"
  },
  "language_info": {
   "file_extension": ".jl",
   "mimetype": "application/julia",
   "name": "julia",
   "version": "1.6.0"
  }
 },
 "nbformat": 4,
 "nbformat_minor": 5
}
